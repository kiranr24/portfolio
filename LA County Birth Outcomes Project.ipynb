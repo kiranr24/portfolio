{
 "cells": [
  {
   "cell_type": "markdown",
   "id": "704a2144-5b63-4824-8910-b8749b3a5b1d",
   "metadata": {},
   "source": [
    "\n",
    "\n",
    "# LA County Birth Outcomes Project\n",
    "\n",
    "(StoryMap project dictating food security & social indicators' impact on birth outcomes in LA County) [https://storymaps.arcgis.com/stories/7f1c4ae089674e6bb3e46d7f716f30a9]\n",
    "\n",
    "This project was a part of Urban Planning 221, an exhaustive course looking at using geographic data in public policy, urban planning, and public health, using tools like Python and other GIS tools. This effort was a quarter-long collaborative project that looked at the impact of social indicators and food security through different census tracts and areas in Los Angeles county. The project culminated in the use of many different data tools, such as Python, StoryMaps, and numerous data libraries. I created the index that could be pulled for future policy planning of the most impacted regions, created map depicting areas that had zero Low Birth Weight births, and also collaborated on the community narrative map depicting backgrounds and demographic information of the communities with the highest and lowest birth outcomes. Additionally, I headed the organizing and structuring of the Story Map report. \n",
    "\n"
   ]
  },
  {
   "cell_type": "code",
   "execution_count": null,
   "id": "6c44628a-d7eb-4606-aee3-e54da3f8bff1",
   "metadata": {},
   "outputs": [],
   "source": []
  }
 ],
 "metadata": {
  "kernelspec": {
   "display_name": "Python 3 (ipykernel)",
   "language": "python",
   "name": "python3"
  },
  "language_info": {
   "codemirror_mode": {
    "name": "ipython",
    "version": 3
   },
   "file_extension": ".py",
   "mimetype": "text/x-python",
   "name": "python",
   "nbconvert_exporter": "python",
   "pygments_lexer": "ipython3",
   "version": "3.7.12"
  }
 },
 "nbformat": 4,
 "nbformat_minor": 5
}
