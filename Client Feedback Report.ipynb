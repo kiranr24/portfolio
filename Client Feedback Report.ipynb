{
 "cells": [
  {
   "cell_type": "markdown",
   "id": "1ed21bf6-5d74-4d77-9df2-ce7147b72688",
   "metadata": {},
   "source": [
    "# Data Report Example\n",
    "[2023 Deep Direct Services Report example](https://docs.google.com/document/d/1hbydF3IW013CFW9Jdw9TBp1T4mUPaqzWzhLTTsGn3RM/edit?usp=sharing)\n",
    "\n",
    "Below is linked a report I've compiled for our biannual feedback report. The feedback process starts with accumlinating a client list of potential clients for feedback, and then embarking on a 6-8 week long outreach process to collect feedback from clients, through online survey and phone surveys. From there, we analyze and present the results into this report. This data is used both internally for our markers around client outcomes and experience and also dissemiated to external stakeholders.  \n"
   ]
  },
  {
   "cell_type": "code",
   "execution_count": null,
   "id": "573518a5-2411-40b4-b84b-1150180c71eb",
   "metadata": {},
   "outputs": [],
   "source": []
  }
 ],
 "metadata": {
  "kernelspec": {
   "display_name": "Python 3 (ipykernel)",
   "language": "python",
   "name": "python3"
  },
  "language_info": {
   "codemirror_mode": {
    "name": "ipython",
    "version": 3
   },
   "file_extension": ".py",
   "mimetype": "text/x-python",
   "name": "python",
   "nbconvert_exporter": "python",
   "pygments_lexer": "ipython3",
   "version": "3.7.12"
  }
 },
 "nbformat": 4,
 "nbformat_minor": 5
}
