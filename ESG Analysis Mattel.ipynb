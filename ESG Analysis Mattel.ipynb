{
 "cells": [
  {
   "cell_type": "markdown",
   "id": "773c2b80-8713-4ab8-90a1-30d0ae64fa12",
   "metadata": {},
   "source": [
    "# ESG Analysis of Mattel Inc.\n",
    "\n",
    "An assignment for our environmental business course where a thorough analysis of Mattel Inc's ESG report was conducted to assess for environmental impact alongside intiatives to lessen their impact; coupled with organizational recommendations to improve their impact.\n",
    "\n",
    "\n",
    "https://docs.google.com/document/d/1NlacX3HdWt-IcRluwT3V2kSGPGujTB5A4jauGJutDME/edit?usp=sharing\n"
   ]
  }
 ],
 "metadata": {
  "kernelspec": {
   "display_name": "Python 3 (ipykernel)",
   "language": "python",
   "name": "python3"
  },
  "language_info": {
   "codemirror_mode": {
    "name": "ipython",
    "version": 3
   },
   "file_extension": ".py",
   "mimetype": "text/x-python",
   "name": "python",
   "nbconvert_exporter": "python",
   "pygments_lexer": "ipython3",
   "version": "3.11.9"
  }
 },
 "nbformat": 4,
 "nbformat_minor": 5
}
