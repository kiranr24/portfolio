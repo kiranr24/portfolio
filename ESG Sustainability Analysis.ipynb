{
 "cells": [
  {
   "cell_type": "markdown",
   "id": "db9439a5-e5de-4e09-b5db-d29edc3d414e",
   "metadata": {},
   "source": [
    "# ESG Sustainability Analysis\n",
    "\n",
    "As a part of an assignment for the course Management 246A: Business & the Environment, we preformed an analysis based on ESG data stats from MSCI ESG Research consulting, pulling these statistics alongside EPA emission data to analyze companies for sustainability and create an hypotheical investment portfolio based on the data. From the different categories given, we highlighted key categories to inform our analysis, including diversity, employment, environment, and international relations, and summed total amounts of stengths and concerns. We derived a ratio of comapnies' strength scores to their concern scores, and incorporated a score from the EPA emissions that was a ranked score of the sample size we were looking at. Our intial step just looked at ESG and emission data before also incorporating a financial analysis for our final recommendations. \n",
    "\n",
    "(ESG Data Indicators Analysis)[https://docs.google.com/spreadsheets/d/1zO2zqfrsdMSlc2XbRjKNdMXR5CH0KyS2/edit?usp=sharing&ouid=104164506105716671444&rtpof=true&sd=true]"
   ]
  }
 ],
 "metadata": {
  "kernelspec": {
   "display_name": "Python 3 (ipykernel)",
   "language": "python",
   "name": "python3"
  },
  "language_info": {
   "codemirror_mode": {
    "name": "ipython",
    "version": 3
   },
   "file_extension": ".py",
   "mimetype": "text/x-python",
   "name": "python",
   "nbconvert_exporter": "python",
   "pygments_lexer": "ipython3",
   "version": "3.11.9"
  }
 },
 "nbformat": 4,
 "nbformat_minor": 5
}
